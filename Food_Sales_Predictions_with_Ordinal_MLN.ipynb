{
  "nbformat": 4,
  "nbformat_minor": 0,
  "metadata": {
    "colab": {
      "name": "Food Sales Predictions with Ordinal MLN.ipynb",
      "provenance": [],
      "authorship_tag": "ABX9TyMQAEf9y/70EdZDefTPhups",
      "include_colab_link": true
    },
    "kernelspec": {
      "name": "python3",
      "display_name": "Python 3"
    },
    "language_info": {
      "name": "python"
    }
  },
  "cells": [
    {
      "cell_type": "markdown",
      "metadata": {
        "id": "view-in-github",
        "colab_type": "text"
      },
      "source": [
        "<a href=\"https://colab.research.google.com/github/dee-ah-nuh/Food_Sales_Predictions/blob/main/Food_Sales_Predictions_with_Ordinal_MLN.ipynb\" target=\"_parent\"><img src=\"https://colab.research.google.com/assets/colab-badge.svg\" alt=\"Open In Colab\"/></a>"
      ]
    },
    {
      "cell_type": "code",
      "execution_count": 547,
      "metadata": {
        "id": "_L1cHwDUnRll",
        "colab": {
          "base_uri": "https://localhost:8080/"
        },
        "outputId": "4ce8f743-e558-4273-8491-a30bc0e91579"
      },
      "outputs": [
        {
          "output_type": "stream",
          "name": "stdout",
          "text": [
            "Drive already mounted at /content/drive; to attempt to forcibly remount, call drive.mount(\"/content/drive\", force_remount=True).\n"
          ]
        }
      ],
      "source": [
        "from google.colab import drive\n",
        "drive.mount ('/content/drive')"
      ]
    },
    {
      "cell_type": "code",
      "source": [
        "import numpy as np\n",
        "import pandas as pd\n",
        "from sklearn.model_selection import train_test_split\n",
        "from sklearn.preprocessing import StandardScaler\n",
        "from sklearn.compose import make_column_selector, make_column_transformer\n",
        "from sklearn.impute import SimpleImputer\n",
        "from sklearn.pipeline import make_pipeline\n",
        "from sklearn.preprocessing import StandardScaler, OneHotEncoder, OrdinalEncoder\n",
        "import seaborn as sns"
      ],
      "metadata": {
        "id": "bJoLwIF8nbb1"
      },
      "execution_count": 548,
      "outputs": []
    },
    {
      "cell_type": "code",
      "source": [
        "df = pd.read_csv('/content/drive/MyDrive/Colab Notebooks/Coding Bootcamp/Project - Food Sales Predictions/sales_predictions (1).csv')\n",
        "df.head(3)"
      ],
      "metadata": {
        "id": "umoOraafngDw",
        "colab": {
          "base_uri": "https://localhost:8080/",
          "height": 259
        },
        "outputId": "4ccf8f6d-f723-499a-9d61-78d66431f325"
      },
      "execution_count": 549,
      "outputs": [
        {
          "output_type": "execute_result",
          "data": {
            "text/plain": [
              "  Item_Identifier  Item_Weight Item_Fat_Content  Item_Visibility    Item_Type  \\\n",
              "0           FDA15         9.30          Low Fat         0.016047        Dairy   \n",
              "1           DRC01         5.92          Regular         0.019278  Soft Drinks   \n",
              "2           FDN15        17.50          Low Fat         0.016760         Meat   \n",
              "\n",
              "   Item_MRP Outlet_Identifier  Outlet_Establishment_Year Outlet_Size  \\\n",
              "0  249.8092            OUT049                       1999      Medium   \n",
              "1   48.2692            OUT018                       2009      Medium   \n",
              "2  141.6180            OUT049                       1999      Medium   \n",
              "\n",
              "  Outlet_Location_Type        Outlet_Type  Item_Outlet_Sales  \n",
              "0               Tier 1  Supermarket Type1          3735.1380  \n",
              "1               Tier 3  Supermarket Type2           443.4228  \n",
              "2               Tier 1  Supermarket Type1          2097.2700  "
            ],
            "text/html": [
              "\n",
              "  <div id=\"df-16426ccb-0af4-499c-bf92-2a7c9f4d9ae4\">\n",
              "    <div class=\"colab-df-container\">\n",
              "      <div>\n",
              "<style scoped>\n",
              "    .dataframe tbody tr th:only-of-type {\n",
              "        vertical-align: middle;\n",
              "    }\n",
              "\n",
              "    .dataframe tbody tr th {\n",
              "        vertical-align: top;\n",
              "    }\n",
              "\n",
              "    .dataframe thead th {\n",
              "        text-align: right;\n",
              "    }\n",
              "</style>\n",
              "<table border=\"1\" class=\"dataframe\">\n",
              "  <thead>\n",
              "    <tr style=\"text-align: right;\">\n",
              "      <th></th>\n",
              "      <th>Item_Identifier</th>\n",
              "      <th>Item_Weight</th>\n",
              "      <th>Item_Fat_Content</th>\n",
              "      <th>Item_Visibility</th>\n",
              "      <th>Item_Type</th>\n",
              "      <th>Item_MRP</th>\n",
              "      <th>Outlet_Identifier</th>\n",
              "      <th>Outlet_Establishment_Year</th>\n",
              "      <th>Outlet_Size</th>\n",
              "      <th>Outlet_Location_Type</th>\n",
              "      <th>Outlet_Type</th>\n",
              "      <th>Item_Outlet_Sales</th>\n",
              "    </tr>\n",
              "  </thead>\n",
              "  <tbody>\n",
              "    <tr>\n",
              "      <th>0</th>\n",
              "      <td>FDA15</td>\n",
              "      <td>9.30</td>\n",
              "      <td>Low Fat</td>\n",
              "      <td>0.016047</td>\n",
              "      <td>Dairy</td>\n",
              "      <td>249.8092</td>\n",
              "      <td>OUT049</td>\n",
              "      <td>1999</td>\n",
              "      <td>Medium</td>\n",
              "      <td>Tier 1</td>\n",
              "      <td>Supermarket Type1</td>\n",
              "      <td>3735.1380</td>\n",
              "    </tr>\n",
              "    <tr>\n",
              "      <th>1</th>\n",
              "      <td>DRC01</td>\n",
              "      <td>5.92</td>\n",
              "      <td>Regular</td>\n",
              "      <td>0.019278</td>\n",
              "      <td>Soft Drinks</td>\n",
              "      <td>48.2692</td>\n",
              "      <td>OUT018</td>\n",
              "      <td>2009</td>\n",
              "      <td>Medium</td>\n",
              "      <td>Tier 3</td>\n",
              "      <td>Supermarket Type2</td>\n",
              "      <td>443.4228</td>\n",
              "    </tr>\n",
              "    <tr>\n",
              "      <th>2</th>\n",
              "      <td>FDN15</td>\n",
              "      <td>17.50</td>\n",
              "      <td>Low Fat</td>\n",
              "      <td>0.016760</td>\n",
              "      <td>Meat</td>\n",
              "      <td>141.6180</td>\n",
              "      <td>OUT049</td>\n",
              "      <td>1999</td>\n",
              "      <td>Medium</td>\n",
              "      <td>Tier 1</td>\n",
              "      <td>Supermarket Type1</td>\n",
              "      <td>2097.2700</td>\n",
              "    </tr>\n",
              "  </tbody>\n",
              "</table>\n",
              "</div>\n",
              "      <button class=\"colab-df-convert\" onclick=\"convertToInteractive('df-16426ccb-0af4-499c-bf92-2a7c9f4d9ae4')\"\n",
              "              title=\"Convert this dataframe to an interactive table.\"\n",
              "              style=\"display:none;\">\n",
              "        \n",
              "  <svg xmlns=\"http://www.w3.org/2000/svg\" height=\"24px\"viewBox=\"0 0 24 24\"\n",
              "       width=\"24px\">\n",
              "    <path d=\"M0 0h24v24H0V0z\" fill=\"none\"/>\n",
              "    <path d=\"M18.56 5.44l.94 2.06.94-2.06 2.06-.94-2.06-.94-.94-2.06-.94 2.06-2.06.94zm-11 1L8.5 8.5l.94-2.06 2.06-.94-2.06-.94L8.5 2.5l-.94 2.06-2.06.94zm10 10l.94 2.06.94-2.06 2.06-.94-2.06-.94-.94-2.06-.94 2.06-2.06.94z\"/><path d=\"M17.41 7.96l-1.37-1.37c-.4-.4-.92-.59-1.43-.59-.52 0-1.04.2-1.43.59L10.3 9.45l-7.72 7.72c-.78.78-.78 2.05 0 2.83L4 21.41c.39.39.9.59 1.41.59.51 0 1.02-.2 1.41-.59l7.78-7.78 2.81-2.81c.8-.78.8-2.07 0-2.86zM5.41 20L4 18.59l7.72-7.72 1.47 1.35L5.41 20z\"/>\n",
              "  </svg>\n",
              "      </button>\n",
              "      \n",
              "  <style>\n",
              "    .colab-df-container {\n",
              "      display:flex;\n",
              "      flex-wrap:wrap;\n",
              "      gap: 12px;\n",
              "    }\n",
              "\n",
              "    .colab-df-convert {\n",
              "      background-color: #E8F0FE;\n",
              "      border: none;\n",
              "      border-radius: 50%;\n",
              "      cursor: pointer;\n",
              "      display: none;\n",
              "      fill: #1967D2;\n",
              "      height: 32px;\n",
              "      padding: 0 0 0 0;\n",
              "      width: 32px;\n",
              "    }\n",
              "\n",
              "    .colab-df-convert:hover {\n",
              "      background-color: #E2EBFA;\n",
              "      box-shadow: 0px 1px 2px rgba(60, 64, 67, 0.3), 0px 1px 3px 1px rgba(60, 64, 67, 0.15);\n",
              "      fill: #174EA6;\n",
              "    }\n",
              "\n",
              "    [theme=dark] .colab-df-convert {\n",
              "      background-color: #3B4455;\n",
              "      fill: #D2E3FC;\n",
              "    }\n",
              "\n",
              "    [theme=dark] .colab-df-convert:hover {\n",
              "      background-color: #434B5C;\n",
              "      box-shadow: 0px 1px 3px 1px rgba(0, 0, 0, 0.15);\n",
              "      filter: drop-shadow(0px 1px 2px rgba(0, 0, 0, 0.3));\n",
              "      fill: #FFFFFF;\n",
              "    }\n",
              "  </style>\n",
              "\n",
              "      <script>\n",
              "        const buttonEl =\n",
              "          document.querySelector('#df-16426ccb-0af4-499c-bf92-2a7c9f4d9ae4 button.colab-df-convert');\n",
              "        buttonEl.style.display =\n",
              "          google.colab.kernel.accessAllowed ? 'block' : 'none';\n",
              "\n",
              "        async function convertToInteractive(key) {\n",
              "          const element = document.querySelector('#df-16426ccb-0af4-499c-bf92-2a7c9f4d9ae4');\n",
              "          const dataTable =\n",
              "            await google.colab.kernel.invokeFunction('convertToInteractive',\n",
              "                                                     [key], {});\n",
              "          if (!dataTable) return;\n",
              "\n",
              "          const docLinkHtml = 'Like what you see? Visit the ' +\n",
              "            '<a target=\"_blank\" href=https://colab.research.google.com/notebooks/data_table.ipynb>data table notebook</a>'\n",
              "            + ' to learn more about interactive tables.';\n",
              "          element.innerHTML = '';\n",
              "          dataTable['output_type'] = 'display_data';\n",
              "          await google.colab.output.renderOutput(dataTable, element);\n",
              "          const docLink = document.createElement('div');\n",
              "          docLink.innerHTML = docLinkHtml;\n",
              "          element.appendChild(docLink);\n",
              "        }\n",
              "      </script>\n",
              "    </div>\n",
              "  </div>\n",
              "  "
            ]
          },
          "metadata": {},
          "execution_count": 549
        }
      ]
    },
    {
      "cell_type": "code",
      "source": [
        "df.isna().sum()"
      ],
      "metadata": {
        "colab": {
          "base_uri": "https://localhost:8080/"
        },
        "id": "VnBvbLGjXWlT",
        "outputId": "2495e418-dc9d-4965-fe82-2d6237ec96ab"
      },
      "execution_count": 550,
      "outputs": [
        {
          "output_type": "execute_result",
          "data": {
            "text/plain": [
              "Item_Identifier                 0\n",
              "Item_Weight                  1463\n",
              "Item_Fat_Content                0\n",
              "Item_Visibility                 0\n",
              "Item_Type                       0\n",
              "Item_MRP                        0\n",
              "Outlet_Identifier               0\n",
              "Outlet_Establishment_Year       0\n",
              "Outlet_Size                  2410\n",
              "Outlet_Location_Type            0\n",
              "Outlet_Type                     0\n",
              "Item_Outlet_Sales               0\n",
              "dtype: int64"
            ]
          },
          "metadata": {},
          "execution_count": 550
        }
      ]
    },
    {
      "cell_type": "code",
      "source": [
        "corr = df.corr()\n",
        "sns.heatmap(corr, cmap = 'Blues')"
      ],
      "metadata": {
        "colab": {
          "base_uri": "https://localhost:8080/",
          "height": 410
        },
        "id": "CXmaO9uCD1LK",
        "outputId": "51f67911-7db2-4010-8b30-12933ecfa4be"
      },
      "execution_count": 551,
      "outputs": [
        {
          "output_type": "execute_result",
          "data": {
            "text/plain": [
              "<matplotlib.axes._subplots.AxesSubplot at 0x7fe7449340d0>"
            ]
          },
          "metadata": {},
          "execution_count": 551
        },
        {
          "output_type": "display_data",
          "data": {
            "text/plain": [
              "<Figure size 432x288 with 2 Axes>"
            ],
            "image/png": "[encoded data removed]"
          },
          "metadata": {
            "needs_background": "light"
          }
        }
      ]
    },
    {
      "cell_type": "code",
      "source": [
        "correlation = df[\"Item_MRP\"].corr(df[\"Item_Outlet_Sales\"])\n",
        "correlation"
      ],
      "metadata": {
        "colab": {
          "base_uri": "https://localhost:8080/"
        },
        "id": "YbjbhZAyD5zi",
        "outputId": "1ffc15fd-f8e5-4826-a69f-4025d6ce5a0f"
      },
      "execution_count": 552,
      "outputs": [
        {
          "output_type": "execute_result",
          "data": {
            "text/plain": [
              "0.5675744466569194"
            ]
          },
          "metadata": {},
          "execution_count": 552
        }
      ]
    },
    {
      "cell_type": "markdown",
      "source": [
        "Validation Split"
      ],
      "metadata": {
        "id": "O2chSFq1oD_l"
      }
    },
    {
      "cell_type": "code",
      "source": [
        "X = df.drop(columns='Item_Outlet_Sales')\n",
        "y = df['Item_Outlet_Sales']\n",
        "X_train, X_test, y_train, y_test = train_test_split(X, y, random_state=42)"
      ],
      "metadata": {
        "id": "Exlc2QTIn1f0"
      },
      "execution_count": 553,
      "outputs": []
    },
    {
      "cell_type": "code",
      "source": [
        "# select only object columns\n",
        "nominal_selector = X_train.select_dtypes( include='object')"
      ],
      "metadata": {
        "id": "bczVYe-woZMU"
      },
      "execution_count": 554,
      "outputs": []
    },
    {
      "cell_type": "code",
      "source": [
        "# check value counts for each object column\n",
        "for col in nominal_selector.columns:\n",
        "  print(col)\n",
        "  print(nominal_selector[col].value_counts(), '\\n')"
      ],
      "metadata": {
        "id": "JhBdIQ_JofoX",
        "colab": {
          "base_uri": "https://localhost:8080/"
        },
        "outputId": "e6ff4048-50cb-494c-fbad-a172ff91017f"
      },
      "execution_count": 555,
      "outputs": [
        {
          "output_type": "stream",
          "name": "stdout",
          "text": [
            "Item_Identifier\n",
            "FDF52    9\n",
            "FDQ40    9\n",
            "DRE49    9\n",
            "NCB18    9\n",
            "FDD38    9\n",
            "        ..\n",
            "DRH59    1\n",
            "FDO28    1\n",
            "NCR54    1\n",
            "FDS39    1\n",
            "FDG28    1\n",
            "Name: Item_Identifier, Length: 1550, dtype: int64 \n",
            "\n",
            "Item_Fat_Content\n",
            "Low Fat    3783\n",
            "Regular    2176\n",
            "LF          260\n",
            "reg          87\n",
            "low fat      86\n",
            "Name: Item_Fat_Content, dtype: int64 \n",
            "\n",
            "Item_Type\n",
            "Fruits and Vegetables    948\n",
            "Snack Foods              906\n",
            "Household                695\n",
            "Frozen Foods             632\n",
            "Dairy                    507\n",
            "Canned                   481\n",
            "Baking Goods             478\n",
            "Health and Hygiene       390\n",
            "Soft Drinks              331\n",
            "Meat                     302\n",
            "Breads                   175\n",
            "Hard Drinks              169\n",
            "Others                   130\n",
            "Starchy Foods            122\n",
            "Breakfast                 84\n",
            "Seafood                   42\n",
            "Name: Item_Type, dtype: int64 \n",
            "\n",
            "Outlet_Identifier\n",
            "OUT027    723\n",
            "OUT035    709\n",
            "OUT018    704\n",
            "OUT045    699\n",
            "OUT017    698\n",
            "OUT046    695\n",
            "OUT013    689\n",
            "OUT049    676\n",
            "OUT010    415\n",
            "OUT019    384\n",
            "Name: Outlet_Identifier, dtype: int64 \n",
            "\n",
            "Outlet_Size\n",
            "Medium    2103\n",
            "Small     1788\n",
            "High       689\n",
            "Name: Outlet_Size, dtype: int64 \n",
            "\n",
            "Outlet_Location_Type\n",
            "Tier 3    2531\n",
            "Tier 2    2106\n",
            "Tier 1    1755\n",
            "Name: Outlet_Location_Type, dtype: int64 \n",
            "\n",
            "Outlet_Type\n",
            "Supermarket Type1    4166\n",
            "Grocery Store         799\n",
            "Supermarket Type3     723\n",
            "Supermarket Type2     704\n",
            "Name: Outlet_Type, dtype: int64 \n",
            "\n"
          ]
        }
      ]
    },
    {
      "cell_type": "markdown",
      "source": [
        "Initiate Power Rangers (Transformers)"
      ],
      "metadata": {
        "id": "yefCwvRAqe1b"
      }
    },
    {
      "cell_type": "code",
      "source": [
        "scaler = StandardScaler()\n",
        "scaler2 = StandardScaler()\n",
        "ohe = OneHotEncoder(sparse=False, handle_unknown='ignore')\n",
        "\n",
        "mean_imputer = SimpleImputer(strategy='mean')\n",
        "freq_imputer = SimpleImputer(strategy='most_frequent')\n",
        "missing_imputer = SimpleImputer(strategy='constant', fill_value='Missing')"
      ],
      "metadata": {
        "id": "cuH_8cxqqkx2"
      },
      "execution_count": 556,
      "outputs": []
    },
    {
      "cell_type": "markdown",
      "source": [
        "Ordinal Encoding"
      ],
      "metadata": {
        "id": "xb7zq2p6q59Q"
      }
    },
    {
      "cell_type": "code",
      "source": [
        "size_label = [\"Small\", \"Medium\", \"High\"]\n",
        "location_type_label = [\"Tier 1\", \"Tier 2\", \"Tier 3\"]\n",
        "ordered_labels = [size_label, location_type_label]\n",
        "ordered_labels"
      ],
      "metadata": {
        "id": "1D-tNE6qq9Cm",
        "colab": {
          "base_uri": "https://localhost:8080/"
        },
        "outputId": "980b98a1-3c0a-446e-921e-4679c49f5d1b"
      },
      "execution_count": 557,
      "outputs": [
        {
          "output_type": "execute_result",
          "data": {
            "text/plain": [
              "[['Small', 'Medium', 'High'], ['Tier 1', 'Tier 2', 'Tier 3']]"
            ]
          },
          "metadata": {},
          "execution_count": 557
        }
      ]
    },
    {
      "cell_type": "code",
      "source": [
        "ordinal_encoding  = OrdinalEncoder(categories=ordered_labels)"
      ],
      "metadata": {
        "id": "buxg7LTXsdbu"
      },
      "execution_count": 558,
      "outputs": []
    },
    {
      "cell_type": "markdown",
      "source": [
        "Pipeline for Numeric and Categorical Data"
      ],
      "metadata": {
        "id": "A0z5UBBXtFQn"
      }
    },
    {
      "cell_type": "code",
      "source": [
        "nominal_pipeline = make_pipeline(missing_imputer, ohe)\n",
        "numeric_pipeline = make_pipeline(mean_imputer, scaler)\n",
        "ordinal_pipeline = make_pipeline(freq_imputer, ordinal_encoding, scaler2)\n"
      ],
      "metadata": {
        "id": "cKEOFOWJtEd1"
      },
      "execution_count": 559,
      "outputs": []
    },
    {
      "cell_type": "markdown",
      "source": [
        "Tuples & Pipelines with columns"
      ],
      "metadata": {
        "id": "oAFRO3SFugsK"
      }
    },
    {
      "cell_type": "code",
      "source": [
        "ordinal_columns = ['Outlet_Size', 'Outlet_Location_Type']"
      ],
      "metadata": {
        "id": "JP-jJT3quFf8"
      },
      "execution_count": 560,
      "outputs": []
    },
    {
      "cell_type": "code",
      "source": [
        "number_selector = make_column_selector(dtype_include='number')"
      ],
      "metadata": {
        "id": "ugBnNxXZvB3t"
      },
      "execution_count": 561,
      "outputs": []
    },
    {
      "cell_type": "code",
      "source": [
        "nominal_tup = (nominal_pipeline, (['Outlet_Type', 'Outlet_Identifier', 'Item_Type', 'Item_Fat_Content', 'Item_Identifier']))\n",
        "numeric_tup = (numeric_pipeline, number_selector)\n",
        "ordinal_tup = (ordinal_pipeline, ordinal_columns)"
      ],
      "metadata": {
        "id": "HEit568MvQNw"
      },
      "execution_count": 562,
      "outputs": []
    },
    {
      "cell_type": "code",
      "source": [
        "from sklearn.dummy import DummyRegressor\n",
        "from sklearn.linear_model import LinearRegression\n",
        "from sklearn.metrics import r2_score\n",
        "from sklearn.tree import DecisionTreeRegressor\n",
        "import numpy as np\n",
        "from sklearn.metrics import r2_score\n",
        "from sklearn.metrics import mean_absolute_error\n",
        "from sklearn.metrics import mean_squared_error\n",
        "from sklearn.ensemble import BaggingRegressor\n",
        "from sklearn.ensemble import RandomForestRegressor\n"
      ],
      "metadata": {
        "id": "vJfIr01fH8i_"
      },
      "execution_count": 563,
      "outputs": []
    },
    {
      "cell_type": "markdown",
      "source": [
        "Create Column Transformer"
      ],
      "metadata": {
        "id": "4hvEuC8cwdY3"
      }
    },
    {
      "cell_type": "code",
      "source": [
        "preprocessor = make_column_transformer(ordinal_tup, numeric_tup, nominal_tup, remainder='passthrough')"
      ],
      "metadata": {
        "id": "YP2Wbl0-wgmA"
      },
      "execution_count": 564,
      "outputs": []
    },
    {
      "cell_type": "code",
      "source": [
        "base_pipe = make_pipeline(preprocessor, DummyRegressor(strategy = 'mean'))\n",
        "base_pipe.fit(X_train, y_train);"
      ],
      "metadata": {
        "id": "ucaSjFV4HvEh"
      },
      "execution_count": 565,
      "outputs": []
    },
    {
      "cell_type": "code",
      "source": [
        "reg = LinearRegression()\n",
        "reg_pipe = make_pipeline(preprocessor, reg)\n",
        "reg_pipe.fit(X_train, y_train); "
      ],
      "metadata": {
        "id": "1fbcYbMWIhzE"
      },
      "execution_count": 566,
      "outputs": []
    },
    {
      "cell_type": "code",
      "source": [
        "train_score = reg_pipe.score(X_train, y_train)\n",
        "print(train_score)"
      ],
      "metadata": {
        "colab": {
          "base_uri": "https://localhost:8080/"
        },
        "id": "rh2iKC8_bNrp",
        "outputId": "b9a628ee-6481-4011-dc12-11d3eee10afe"
      },
      "execution_count": 567,
      "outputs": [
        {
          "output_type": "stream",
          "name": "stdout",
          "text": [
            "0.6650747531175036\n"
          ]
        }
      ]
    },
    {
      "cell_type": "code",
      "source": [
        "test_score = reg_pipe.score(X_test, y_test)\n",
        "print(test_score)"
      ],
      "metadata": {
        "colab": {
          "base_uri": "https://localhost:8080/"
        },
        "id": "3wHKrvvAbY9n",
        "outputId": "9ce2db32-57ba-4381-a29c-ee74b19a7962"
      },
      "execution_count": 568,
      "outputs": [
        {
          "output_type": "stream",
          "name": "stdout",
          "text": [
            "-4.759866523570703e+19\n"
          ]
        }
      ]
    },
    {
      "cell_type": "code",
      "source": [
        "#Train test predictions\n",
        "xtrain_preds = reg_pipe.predict(X_train)\n",
        "test_preds = reg_pipe.predict(X_test)\n",
        "xtrain_preds"
      ],
      "metadata": {
        "colab": {
          "base_uri": "https://localhost:8080/"
        },
        "id": "ZfAg9SIKbhRf",
        "outputId": "b68afd20-4cc7-4f92-a763-c071487a883f"
      },
      "execution_count": 569,
      "outputs": [
        {
          "output_type": "execute_result",
          "data": {
            "text/plain": [
              "array([4693., 4733., 2000., ..., 4850.,  657., 1271.])"
            ]
          },
          "metadata": {},
          "execution_count": 569
        }
      ]
    },
    {
      "cell_type": "code",
      "source": [
        "r2_train = r2_score(y_train, xtrain_preds)\n",
        "r2_test = r2_score(y_test, test_preds)\n",
        "r2_train"
      ],
      "metadata": {
        "colab": {
          "base_uri": "https://localhost:8080/"
        },
        "id": "mJFFfqCPYm-M",
        "outputId": "ea7ebfa0-8182-458d-e899-9d5fad95ff37"
      },
      "execution_count": 570,
      "outputs": [
        {
          "output_type": "execute_result",
          "data": {
            "text/plain": [
              "0.6650747531175036"
            ]
          },
          "metadata": {},
          "execution_count": 570
        }
      ]
    },
    {
      "cell_type": "code",
      "source": [
        "r2_test"
      ],
      "metadata": {
        "colab": {
          "base_uri": "https://localhost:8080/"
        },
        "id": "ywAhYZ2fcA1b",
        "outputId": "6944f8a8-5b7d-4ec6-cde9-bc4dff3aa92a"
      },
      "execution_count": 571,
      "outputs": [
        {
          "output_type": "execute_result",
          "data": {
            "text/plain": [
              "-4.759866523570703e+19"
            ]
          },
          "metadata": {},
          "execution_count": 571
        }
      ]
    },
    {
      "cell_type": "code",
      "source": [
        "rmse_train = np.sqrt(mean_squared_error(y_train, xtrain_preds))\n",
        "rmse_test = np.sqrt(mean_squared_error(y_test, test_preds))\n",
        "\n",
        "rmse_test"
      ],
      "metadata": {
        "colab": {
          "base_uri": "https://localhost:8080/"
        },
        "id": "GLwI8N9eZQoE",
        "outputId": "199a9b88-e052-4cdc-a277-312b8025d2e3"
      },
      "execution_count": 572,
      "outputs": [
        {
          "output_type": "execute_result",
          "data": {
            "text/plain": [
              "11459652539026.996"
            ]
          },
          "metadata": {},
          "execution_count": 572
        }
      ]
    },
    {
      "cell_type": "code",
      "source": [
        "rmse_train"
      ],
      "metadata": {
        "colab": {
          "base_uri": "https://localhost:8080/"
        },
        "id": "ALgrWK0BZST6",
        "outputId": "72529094-32df-46dc-a1bc-84a088c6159d"
      },
      "execution_count": 573,
      "outputs": [
        {
          "output_type": "execute_result",
          "data": {
            "text/plain": [
              "995.588485508129"
            ]
          },
          "metadata": {},
          "execution_count": 573
        }
      ]
    },
    {
      "cell_type": "code",
      "source": [
        "dec_tree = DecisionTreeRegressor(random_state=42)\n",
        "dec_tree_pipe = make_pipeline(preprocessor, dec_tree)\n",
        "dec_tree_pipe.fit(X_train, y_train);"
      ],
      "metadata": {
        "id": "MBqhA8wPwtgX"
      },
      "execution_count": 574,
      "outputs": []
    },
    {
      "cell_type": "code",
      "source": [
        "train_preds = dec_tree_pipe.predict(X_train)\n",
        "test_preds = dec_tree_pipe.predict(X_test)"
      ],
      "metadata": {
        "id": "Xr7xeaJnwt67"
      },
      "execution_count": 575,
      "outputs": []
    },
    {
      "cell_type": "code",
      "source": [
        "train_score = dec_tree_pipe.score(X_train, y_train)\n",
        "test_score = dec_tree_pipe.score(X_test, y_test)\n",
        "print(train_score)\n",
        "print(test_score)"
      ],
      "metadata": {
        "id": "QqTbhw_L23mc",
        "colab": {
          "base_uri": "https://localhost:8080/"
        },
        "outputId": "2844787b-4ae2-463f-89a9-175254323545"
      },
      "execution_count": 576,
      "outputs": [
        {
          "output_type": "stream",
          "name": "stdout",
          "text": [
            "1.0\n",
            "0.23652849795751107\n"
          ]
        }
      ]
    },
    {
      "cell_type": "code",
      "source": [
        "max_depth_range = list(range(2, 36)) \n",
        "r2 = []\n",
        "for depth in max_depth_range:\n",
        "    dec_tree_max = DecisionTreeRegressor(max_depth = depth, \n",
        "                             random_state = 42)\n",
        "    dec_tree_max_pipe = make_pipeline(preprocessor, dec_tree_max)\n",
        "    dec_tree_max_pipe.fit(X_train, y_train)\n",
        "    score = dec_tree_max_pipe.score(X_test, y_test)\n",
        "    r2.append(score)"
      ],
      "metadata": {
        "id": "n74qcFbB28OR"
      },
      "execution_count": 577,
      "outputs": []
    },
    {
      "cell_type": "code",
      "source": [
        "import matplotlib.pyplot as plt\n",
        "plt.plot(max_depth_range, r2)\n",
        "plt.xlabel('max_depth')\n",
        "plt.ylabel('R2');\n"
      ],
      "metadata": {
        "id": "mkVEgv382-kl",
        "colab": {
          "base_uri": "https://localhost:8080/",
          "height": 280
        },
        "outputId": "a86de7dc-ea10-4aae-99c5-49eb90e2abfc"
      },
      "execution_count": 578,
      "outputs": [
        {
          "output_type": "display_data",
          "data": {
            "text/plain": [
              "<Figure size 432x288 with 1 Axes>"
            ],
            "image/png": "[encoded data removed]"
          },
          "metadata": {
            "needs_background": "light"
          }
        }
      ]
    },
    {
      "cell_type": "markdown",
      "source": [
        "Fit on train only."
      ],
      "metadata": {
        "id": "jwjjDFUdw9OI"
      }
    },
    {
      "cell_type": "code",
      "source": [
        "dec_tree_5 = DecisionTreeRegressor(max_depth = 5.5, random_state = 42)\n",
        "dec_tree_5_pipe = make_pipeline(preprocessor, dec_tree_5)\n",
        "dec_tree_5_pipe.fit(X_train, y_train)\n",
        "train_5_score = dec_tree_5_pipe.score(X_train, y_train)\n",
        "test_5_score = dec_tree_5_pipe.score(X_test, y_test)\n",
        "print(train_5_score)\n",
        "print(test_5_score)"
      ],
      "metadata": {
        "colab": {
          "base_uri": "https://localhost:8080/"
        },
        "id": "RjcHjYs87ZE7",
        "outputId": "327e04eb-47ed-411a-ac21-5beab033340e"
      },
      "execution_count": 579,
      "outputs": [
        {
          "output_type": "stream",
          "name": "stdout",
          "text": [
            "0.6042066848171654\n",
            "0.5960564372160062\n"
          ]
        }
      ]
    },
    {
      "cell_type": "code",
      "source": [
        "bagreg = BaggingRegressor(random_state = 42)\n",
        "bagreg.get_params()"
      ],
      "metadata": {
        "colab": {
          "base_uri": "https://localhost:8080/"
        },
        "id": "xPzNbzyp-H9S",
        "outputId": "8da6cc44-6539-4af2-f1f4-f11a0995f802"
      },
      "execution_count": 580,
      "outputs": [
        {
          "output_type": "execute_result",
          "data": {
            "text/plain": [
              "{'base_estimator': None,\n",
              " 'bootstrap': True,\n",
              " 'bootstrap_features': False,\n",
              " 'max_features': 1.0,\n",
              " 'max_samples': 1.0,\n",
              " 'n_estimators': 10,\n",
              " 'n_jobs': None,\n",
              " 'oob_score': False,\n",
              " 'random_state': 42,\n",
              " 'verbose': 0,\n",
              " 'warm_start': False}"
            ]
          },
          "metadata": {},
          "execution_count": 580
        }
      ]
    },
    {
      "cell_type": "code",
      "source": [
        "bagreg_pipe = make_pipeline(preprocessor, bagreg)\n",
        "bagreg_pipe.fit(X_train, y_train);"
      ],
      "metadata": {
        "id": "YLZDYkqR-Y1g"
      },
      "execution_count": 581,
      "outputs": []
    },
    {
      "cell_type": "code",
      "source": [
        "bagreg_pipe.predict(X_test)"
      ],
      "metadata": {
        "colab": {
          "base_uri": "https://localhost:8080/"
        },
        "id": "UzPn95t0Avd9",
        "outputId": "0d58a8c7-1de9-4c04-84ed-4e0dc57e642a"
      },
      "execution_count": 582,
      "outputs": [
        {
          "output_type": "execute_result",
          "data": {
            "text/plain": [
              "array([ 810.41176, 1070.40666,  912.21258, ..., 4943.8979 , 2125.83282,\n",
              "       1545.38838])"
            ]
          },
          "metadata": {},
          "execution_count": 582
        }
      ]
    },
    {
      "cell_type": "code",
      "source": [
        "bagreg_train_score = bagreg_pipe.score(X_train, y_train)\n",
        "bagreg_test_score = bagreg_pipe.score(X_test, y_test)\n",
        "print(bagreg_train_score)\n",
        "print(bagreg_test_score)"
      ],
      "metadata": {
        "colab": {
          "base_uri": "https://localhost:8080/"
        },
        "id": "r229oz4bA8Nr",
        "outputId": "8cc0bf1b-f4f4-4626-efbb-54e635a20e6e"
      },
      "execution_count": 583,
      "outputs": [
        {
          "output_type": "stream",
          "name": "stdout",
          "text": [
            "0.9187129955826051\n",
            "0.5361384464525489\n"
          ]
        }
      ]
    },
    {
      "cell_type": "code",
      "source": [
        "rf = RandomForestRegressor(random_state = 42)\n",
        "rf_pipe = make_pipeline(preprocessor, rf)"
      ],
      "metadata": {
        "id": "typk0jzcBJbx"
      },
      "execution_count": 584,
      "outputs": []
    },
    {
      "cell_type": "code",
      "source": [
        "rf_pipe.fit(X_train, y_train);"
      ],
      "metadata": {
        "id": "7dug-WxZB2p1"
      },
      "execution_count": 588,
      "outputs": []
    },
    {
      "cell_type": "code",
      "source": [
        "rf_pipe.predict(X_test)"
      ],
      "metadata": {
        "colab": {
          "base_uri": "https://localhost:8080/"
        },
        "id": "uaC1jaq3CkwU",
        "outputId": "8f489693-e55b-402c-bb0a-27b2f1cae97a"
      },
      "execution_count": 589,
      "outputs": [
        {
          "output_type": "execute_result",
          "data": {
            "text/plain": [
              "array([ 715.655104,  905.401446,  940.768742, ..., 4216.538032,\n",
              "       1902.263838, 2119.647538])"
            ]
          },
          "metadata": {},
          "execution_count": 589
        }
      ]
    },
    {
      "cell_type": "code",
      "source": [
        "rf_train_score = rf_pipe.score(X_train, y_train)\n",
        "rf_test_score = rf_pipe.score(X_test, y_test)\n",
        "print(rf_train_score)\n",
        "print(rf_test_score)"
      ],
      "metadata": {
        "colab": {
          "base_uri": "https://localhost:8080/"
        },
        "id": "DDGx9gRNCo6s",
        "outputId": "16228cf5-8eba-4351-da97-6e6c5e8f9fa8"
      },
      "execution_count": 590,
      "outputs": [
        {
          "output_type": "stream",
          "name": "stdout",
          "text": [
            "0.9377713584149171\n",
            "0.5514793218551158\n"
          ]
        }
      ]
    },
    {
      "cell_type": "code",
      "source": [
        "rf_60 = RandomForestRegressor(max_depth = 60, random_state = 42)\n",
        "rf_60_pipe = make_pipeline(preprocessor, rf_60)\n",
        "rf_60_pipe.fit(X_train, y_train)"
      ],
      "metadata": {
        "colab": {
          "base_uri": "https://localhost:8080/"
        },
        "id": "U07-bYBLEdUW",
        "outputId": "a67c65bd-af65-4ecd-acf4-670607485881"
      },
      "execution_count": 608,
      "outputs": [
        {
          "output_type": "execute_result",
          "data": {
            "text/plain": [
              "Pipeline(steps=[('columntransformer',\n",
              "                 ColumnTransformer(remainder='passthrough',\n",
              "                                   transformers=[('pipeline-1',\n",
              "                                                  Pipeline(steps=[('simpleimputer',\n",
              "                                                                   SimpleImputer(strategy='most_frequent')),\n",
              "                                                                  ('ordinalencoder',\n",
              "                                                                   OrdinalEncoder(categories=[['Small',\n",
              "                                                                                               'Medium',\n",
              "                                                                                               'High'],\n",
              "                                                                                              ['Tier '\n",
              "                                                                                               '1',\n",
              "                                                                                               'Tier '\n",
              "                                                                                               '2',\n",
              "                                                                                               'Tier '\n",
              "                                                                                               '3']])),\n",
              "                                                                  ('standardscaler',\n",
              "                                                                   StandardScaler())]),\n",
              "                                                  ['Outlet_Size',\n",
              "                                                   'Outlet_Lo...\n",
              "                                                  <sklearn.compose._column_transformer.make_column_selector object at 0x7fe7448981d0>),\n",
              "                                                 ('pipeline-3',\n",
              "                                                  Pipeline(steps=[('simpleimputer',\n",
              "                                                                   SimpleImputer(fill_value='Missing',\n",
              "                                                                                 strategy='constant')),\n",
              "                                                                  ('onehotencoder',\n",
              "                                                                   OneHotEncoder(handle_unknown='ignore',\n",
              "                                                                                 sparse=False))]),\n",
              "                                                  ['Outlet_Type',\n",
              "                                                   'Outlet_Identifier',\n",
              "                                                   'Item_Type',\n",
              "                                                   'Item_Fat_Content',\n",
              "                                                   'Item_Identifier'])])),\n",
              "                ('randomforestregressor',\n",
              "                 RandomForestRegressor(max_depth=60, random_state=42))])"
            ]
          },
          "metadata": {},
          "execution_count": 608
        }
      ]
    },
    {
      "cell_type": "code",
      "source": [
        "rf_60_train_score = rf_60_pipe.score(X_train, y_train)\n",
        "rf_60_test_score = rf_60_pipe.score(X_test, y_test)\n",
        "print(rf_60_train_score)\n",
        "print(rf_60_test_score)"
      ],
      "metadata": {
        "colab": {
          "base_uri": "https://localhost:8080/"
        },
        "id": "ovUUU-VcFysE",
        "outputId": "17d3e025-213e-4d0d-ee24-750abd64b100"
      },
      "execution_count": 610,
      "outputs": [
        {
          "output_type": "stream",
          "name": "stdout",
          "text": [
            "0.9375675544489716\n",
            "0.5518032433566509\n"
          ]
        }
      ]
    },
    {
      "cell_type": "code",
      "source": [
        "[estimator.get_depth() for estimator in rf.estimators_]"
      ],
      "metadata": {
        "colab": {
          "base_uri": "https://localhost:8080/"
        },
        "id": "-2Uul-NeD9eJ",
        "outputId": "35880cbd-972c-4fa3-d537-38e8652a0d12"
      },
      "execution_count": 599,
      "outputs": [
        {
          "output_type": "execute_result",
          "data": {
            "text/plain": [
              "[52,\n",
              " 53,\n",
              " 59,\n",
              " 57,\n",
              " 54,\n",
              " 60,\n",
              " 64,\n",
              " 59,\n",
              " 65,\n",
              " 49,\n",
              " 69,\n",
              " 62,\n",
              " 49,\n",
              " 59,\n",
              " 58,\n",
              " 66,\n",
              " 62,\n",
              " 61,\n",
              " 52,\n",
              " 61,\n",
              " 57,\n",
              " 46,\n",
              " 65,\n",
              " 63,\n",
              " 46,\n",
              " 56,\n",
              " 56,\n",
              " 60,\n",
              " 59,\n",
              " 60,\n",
              " 53,\n",
              " 69,\n",
              " 52,\n",
              " 54,\n",
              " 52,\n",
              " 61,\n",
              " 87,\n",
              " 58,\n",
              " 54,\n",
              " 66,\n",
              " 59,\n",
              " 54,\n",
              " 66,\n",
              " 49,\n",
              " 52,\n",
              " 62,\n",
              " 68,\n",
              " 68,\n",
              " 54,\n",
              " 51,\n",
              " 60,\n",
              " 51,\n",
              " 55,\n",
              " 62,\n",
              " 58,\n",
              " 67,\n",
              " 49,\n",
              " 61,\n",
              " 68,\n",
              " 49,\n",
              " 52,\n",
              " 66,\n",
              " 66,\n",
              " 61,\n",
              " 62,\n",
              " 65,\n",
              " 56,\n",
              " 58,\n",
              " 69,\n",
              " 66,\n",
              " 53,\n",
              " 61,\n",
              " 58,\n",
              " 53,\n",
              " 57,\n",
              " 47,\n",
              " 58,\n",
              " 61,\n",
              " 60,\n",
              " 56,\n",
              " 66,\n",
              " 63,\n",
              " 55,\n",
              " 51,\n",
              " 64,\n",
              " 57,\n",
              " 60,\n",
              " 72,\n",
              " 58,\n",
              " 48,\n",
              " 71,\n",
              " 61,\n",
              " 65,\n",
              " 62,\n",
              " 52,\n",
              " 46,\n",
              " 53,\n",
              " 58,\n",
              " 60,\n",
              " 61]"
            ]
          },
          "metadata": {},
          "execution_count": 599
        }
      ]
    },
    {
      "cell_type": "code",
      "source": [
        "rf_200 = RandomForestRegressor(n_estimators = 200, random_state = 42)\n",
        "rf_200_pipe = make_pipeline(preprocessor ,rf_200)\n",
        "# Fit the model\n",
        "rf_200_pipe.fit(X_train, y_train)\n",
        "# Obtain the scores\n",
        "rf_200_train_score = rf_200_pipe.score(X_train, y_train)\n",
        "rf_200_test_score = rf_200_pipe.score(X_test, y_test)\n",
        "print(rf_200_train_score)\n",
        "print(rf_200_test_score)"
      ],
      "metadata": {
        "colab": {
          "base_uri": "https://localhost:8080/"
        },
        "id": "7GmFngfpEBN-",
        "outputId": "65e8cc73-2fc1-4462-8469-e981ac10fcd8"
      },
      "execution_count": 611,
      "outputs": [
        {
          "output_type": "stream",
          "name": "stdout",
          "text": [
            "0.9388149838079992\n",
            "0.5530943563552553\n"
          ]
        }
      ]
    },
    {
      "cell_type": "code",
      "source": [
        "preprocessor.fit(X_train);"
      ],
      "metadata": {
        "id": "0UfFAue4wvX9"
      },
      "execution_count": 585,
      "outputs": []
    },
    {
      "cell_type": "markdown",
      "source": [
        "Transform both testing and training. "
      ],
      "metadata": {
        "id": "juaI44cIw4ym"
      }
    },
    {
      "cell_type": "code",
      "source": [
        "X_train_processed = preprocessor.transform(X_train)\n",
        "X_test_processed = preprocessor.transform(X_test)"
      ],
      "metadata": {
        "id": "LWqYbymCw2jv"
      },
      "execution_count": 586,
      "outputs": []
    },
    {
      "cell_type": "markdown",
      "source": [
        "Check Result"
      ],
      "metadata": {
        "id": "ESjs7bZqxMrN"
      }
    },
    {
      "cell_type": "code",
      "source": [
        "X_train_processed"
      ],
      "metadata": {
        "id": "w-jLHWYgxJUc",
        "colab": {
          "base_uri": "https://localhost:8080/"
        },
        "outputId": "b9070c53-b070-41e0-fb81-4dfc1ed2fd2b"
      },
      "execution_count": 612,
      "outputs": [
        {
          "output_type": "execute_result",
          "data": {
            "text/plain": [
              "array([[ 0.28737371,  1.08494779,  0.81724868, ...,  0.        ,\n",
              "         0.        ,  0.        ],\n",
              "       [ 0.28737371,  1.08494779,  0.5563395 , ...,  0.        ,\n",
              "         0.        ,  0.        ],\n",
              "       [ 0.28737371, -1.38477667, -0.13151196, ...,  0.        ,\n",
              "         0.        ,  0.        ],\n",
              "       ...,\n",
              "       [ 0.28737371, -0.14991444,  1.11373638, ...,  0.        ,\n",
              "         0.        ,  0.        ],\n",
              "       [ 0.28737371, -0.14991444,  1.76600931, ...,  0.        ,\n",
              "         0.        ,  0.        ],\n",
              "       [-1.38404828, -1.38477667,  0.81724868, ...,  0.        ,\n",
              "         0.        ,  0.        ]])"
            ]
          },
          "metadata": {},
          "execution_count": 612
        }
      ]
    }
  ]
}